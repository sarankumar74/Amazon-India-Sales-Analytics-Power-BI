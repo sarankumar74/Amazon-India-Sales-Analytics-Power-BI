{
 "cells": [
  {
   "cell_type": "markdown",
   "id": "863e00d4-bd16-43e3-84a9-af0f0514b6be",
   "metadata": {},
   "source": [
    "### Import Packages"
   ]
  },
  {
   "cell_type": "code",
   "execution_count": 1,
   "id": "5af6b37a-6098-4549-acea-3b73b8b1c79f",
   "metadata": {},
   "outputs": [
    {
     "name": "stdout",
     "output_type": "stream",
     "text": [
      "import\n"
     ]
    }
   ],
   "source": [
    "import pandas as pd\n",
    "print('import')"
   ]
  },
  {
   "cell_type": "markdown",
   "id": "12184291-0fdd-4c43-8801-8cf52a16e428",
   "metadata": {},
   "source": [
    "### Open CSV Files"
   ]
  },
  {
   "cell_type": "code",
   "execution_count": 2,
   "id": "2d93d0e5-9e50-4512-b51a-f26104c832ae",
   "metadata": {},
   "outputs": [
    {
     "name": "stdout",
     "output_type": "stream",
     "text": [
      "Open\n"
     ]
    }
   ],
   "source": [
    "amazon_india_full = pd.read_csv('amazon_india_complete_2015_2025.csv')\n",
    "print('Open')"
   ]
  },
  {
   "cell_type": "markdown",
   "id": "aab32c13-61c4-497c-8979-6a70932d1090",
   "metadata": {},
   "source": [
    "### Find a Shape of CSV"
   ]
  },
  {
   "cell_type": "code",
   "execution_count": 3,
   "id": "63d8fcf0-27af-4903-8aa3-74489cde2036",
   "metadata": {},
   "outputs": [
    {
     "data": {
      "text/plain": [
       "(1127609, 34)"
      ]
     },
     "execution_count": 3,
     "metadata": {},
     "output_type": "execute_result"
    }
   ],
   "source": [
    "amazon_india_full.shape"
   ]
  },
  {
   "cell_type": "markdown",
   "id": "83bc05e7-1bf4-416c-836d-6c9d42a9e7e6",
   "metadata": {},
   "source": [
    "### Ckeck the columns Names"
   ]
  },
  {
   "cell_type": "code",
   "execution_count": 6,
   "id": "994e6ab7-0e27-4d38-be3e-f3b9b4658291",
   "metadata": {},
   "outputs": [
    {
     "data": {
      "text/plain": [
       "Index(['transaction_id', 'order_date', 'customer_id', 'product_id',\n",
       "       'product_name', 'category', 'subcategory', 'brand',\n",
       "       'original_price_inr', 'discount_percent', 'discounted_price_inr',\n",
       "       'quantity', 'subtotal_inr', 'delivery_charges', 'final_amount_inr',\n",
       "       'customer_city', 'customer_state', 'customer_tier',\n",
       "       'customer_spending_tier', 'customer_age_group', 'payment_method',\n",
       "       'delivery_days', 'delivery_type', 'is_prime_member', 'is_festival_sale',\n",
       "       'festival_name', 'customer_rating', 'return_status', 'order_month',\n",
       "       'order_year', 'order_quarter', 'product_weight_kg', 'is_prime_eligible',\n",
       "       'product_rating'],\n",
       "      dtype='object')"
      ]
     },
     "execution_count": 6,
     "metadata": {},
     "output_type": "execute_result"
    }
   ],
   "source": [
    "amazon_india_full.columns"
   ]
  },
  {
   "cell_type": "markdown",
   "id": "8622aca3-f218-404c-a41f-75f0d782831c",
   "metadata": {},
   "source": [
    "### Check the Null Values"
   ]
  },
  {
   "cell_type": "code",
   "execution_count": 4,
   "id": "85937978-41a4-4bba-be41-0d68025f42f5",
   "metadata": {},
   "outputs": [
    {
     "name": "stdout",
     "output_type": "stream",
     "text": [
      "delivery_charges       90201\n",
      "customer_age_group    135315\n",
      "festival_name         777736\n",
      "customer_rating       341696\n",
      "dtype: int64\n"
     ]
    }
   ],
   "source": [
    "if amazon_india_full.isnull().values.any():\n",
    "    print(amazon_india_full.isnull().sum() [amazon_india_full.isnull().sum() > 0])\n",
    "else:\n",
    "    print('No Null Values')"
   ]
  },
  {
   "cell_type": "markdown",
   "id": "609ba96c-fc43-433a-b684-25acd72a6abc",
   "metadata": {},
   "source": [
    "### Change The Columns Name"
   ]
  },
  {
   "cell_type": "code",
   "execution_count": 5,
   "id": "e1b8b3f6-8726-4d4b-8ad7-78fb0bae3aa6",
   "metadata": {
    "scrolled": true
   },
   "outputs": [
    {
     "data": {
      "text/plain": [
       "Index(['Transaction Id', 'Order Date', 'Customer Id', 'Product Id',\n",
       "       'Product Name', 'Category', 'Subcategory', 'Brand',\n",
       "       'Original Price Inr', 'Discount Percent', 'Discounted Price Inr',\n",
       "       'Quantity', 'Subtotal Inr', 'Delivery Charges', 'Final Amount Inr',\n",
       "       'Customer City', 'Customer State', 'Customer Tier',\n",
       "       'Customer Spending Tier', 'Customer Age Group', 'Payment Method',\n",
       "       'Delivery Days', 'Delivery Type', 'Is Prime Member', 'Is Festival Sale',\n",
       "       'Festival Name', 'Customer Rating', 'Return Status', 'Order Month',\n",
       "       'Order Year', 'Order Quarter', 'Product Weight Kg', 'Is Prime Eligible',\n",
       "       'Product Rating'],\n",
       "      dtype='object')"
      ]
     },
     "execution_count": 5,
     "metadata": {},
     "output_type": "execute_result"
    }
   ],
   "source": [
    "amazon_india_full.columns = ['transaction_id', 'order_date', 'customer_id', 'product_id',\n",
    "       'product_name', 'category', 'subcategory', 'brand',\n",
    "       'original_price_inr', 'discount_percent', 'discounted_price_inr',\n",
    "       'quantity', 'subtotal_inr', 'delivery_charges', 'final_amount_inr',\n",
    "       'customer_city', 'customer_state', 'customer_tier',\n",
    "       'customer_spending_tier', 'customer_age_group', 'payment_method',\n",
    "       'delivery_days', 'delivery_type', 'is_prime_member', 'is_festival_sale',\n",
    "       'festival_name', 'customer_rating', 'return_status', 'order_month',\n",
    "       'order_year', 'order_quarter', 'product_weight_kg', 'is_prime_eligible',\n",
    "       'product_rating']\n",
    "\n",
    "amazon_india_full.columns = amazon_india_full.columns.str.replace(\"_\", \" \").str.title()\n",
    "amazon_india_full.columns"
   ]
  },
  {
   "cell_type": "markdown",
   "id": "ab70209d-d5b0-406f-929e-829765c15671",
   "metadata": {},
   "source": [
    "### Checking the columns datatypes"
   ]
  },
  {
   "cell_type": "code",
   "execution_count": null,
   "id": "55fec620-fadd-493e-ab66-58255947c9e7",
   "metadata": {
    "collapsed": true,
    "jupyter": {
     "outputs_hidden": true
    }
   },
   "outputs": [],
   "source": [
    "for columns in amazon_india_full.select_dtypes(include='object').columns:\n",
    "    print(f\"-- {columns} --\")\n",
    "    print(amazon_india_full[columns].value_counts())"
   ]
  },
  {
   "cell_type": "markdown",
   "id": "b343c88c-5f42-4e7c-943d-a43fe4454122",
   "metadata": {},
   "source": [
    "### Change the datatypes "
   ]
  },
  {
   "cell_type": "code",
   "execution_count": 7,
   "id": "6b83409d-7b7e-40e9-88fe-a28fd857655c",
   "metadata": {},
   "outputs": [
    {
     "name": "stdout",
     "output_type": "stream",
     "text": [
      "changed\n"
     ]
    }
   ],
   "source": [
    "amazon_india_full['Order Date'] = pd.to_datetime(amazon_india_full['Order Date'], format='mixed')\n",
    "amazon_india_full['Original Price Inr'] = pd.to_numeric(amazon_india_full['Original Price Inr'], errors='coerce')\n",
    "amazon_india_full['Delivery Days'] = pd.to_numeric(amazon_india_full['Delivery Days'], errors='coerce')\n",
    "amazon_india_full['Customer Rating'] = pd.to_numeric(amazon_india_full['Customer Rating'], errors='coerce')\n",
    "amazon_india_full['Is Festival Sale'] = pd.to_numeric(amazon_india_full['Is Festival Sale'], errors='coerce').astype(bool)\n",
    "amazon_india_full['Is Prime Member'] = pd.to_numeric(amazon_india_full['Is Prime Member'], errors='coerce').astype(bool)\n",
    "amazon_india_full['Is Prime Eligible'] = pd.to_numeric(amazon_india_full['Is Prime Eligible'], errors='coerce').astype(bool)\n",
    "print('changed')"
   ]
  },
  {
   "cell_type": "markdown",
   "id": "cecb91db-957f-4769-b63b-d263ced5551e",
   "metadata": {},
   "source": [
    "### Filling the Delivery Charges, Customer Rating null values"
   ]
  },
  {
   "cell_type": "code",
   "execution_count": 8,
   "id": "c4cc26d4-0942-4013-940a-e03637c4c822",
   "metadata": {},
   "outputs": [
    {
     "name": "stderr",
     "output_type": "stream",
     "text": [
      "C:\\Users\\saran\\AppData\\Local\\Temp\\ipykernel_12240\\2043398642.py:1: FutureWarning: DataFrame.fillna with 'method' is deprecated and will raise in a future version. Use obj.ffill() or obj.bfill() instead.\n",
      "  amazon_india_full[['Delivery Charges', 'Customer Rating']] = amazon_india_full[['Delivery Charges', 'Customer Rating']].fillna(method='bfill')\n"
     ]
    }
   ],
   "source": [
    "amazon_india_full[['Delivery Charges', 'Customer Rating']] = amazon_india_full[['Delivery Charges', 'Customer Rating']].fillna(method='bfill')\n"
   ]
  },
  {
   "cell_type": "markdown",
   "id": "58edfbd3-8a05-4de5-905b-8b088b2a82ad",
   "metadata": {},
   "source": [
    "### Filling the Delivery Charges, Customer, Original Price Inr Rating null values"
   ]
  },
  {
   "cell_type": "code",
   "execution_count": 9,
   "id": "051f0159-f5b6-4421-8c0c-90e934c7c15c",
   "metadata": {},
   "outputs": [
    {
     "name": "stderr",
     "output_type": "stream",
     "text": [
      "C:\\Users\\saran\\AppData\\Local\\Temp\\ipykernel_12240\\495590491.py:1: FutureWarning: DataFrame.fillna with 'method' is deprecated and will raise in a future version. Use obj.ffill() or obj.bfill() instead.\n",
      "  amazon_india_full[['Original Price Inr', 'Delivery Days', 'Customer Rating']] = amazon_india_full[['Original Price Inr', 'Delivery Days', 'Customer Rating']] .fillna(method='bfill')\n"
     ]
    }
   ],
   "source": [
    "amazon_india_full[['Original Price Inr', 'Delivery Days', 'Customer Rating']] = amazon_india_full[['Original Price Inr', 'Delivery Days', 'Customer Rating']] .fillna(method='bfill')\n"
   ]
  },
  {
   "cell_type": "markdown",
   "id": "287f6a3b-da43-4ceb-bd1e-5774a4ee77c7",
   "metadata": {},
   "source": [
    "### Filling the Festival Name, Customer Age Group, Customer Rating Inr Rating null values"
   ]
  },
  {
   "cell_type": "code",
   "execution_count": 10,
   "id": "34ee6807-8aa9-4d5b-8d22-6a8761958976",
   "metadata": {},
   "outputs": [
    {
     "name": "stderr",
     "output_type": "stream",
     "text": [
      "C:\\Users\\saran\\AppData\\Local\\Temp\\ipykernel_12240\\4116468957.py:1: FutureWarning: DataFrame.fillna with 'method' is deprecated and will raise in a future version. Use obj.ffill() or obj.bfill() instead.\n",
      "  amazon_india_full[['Festival Name', 'Customer Age Group', 'Customer Rating']] = amazon_india_full[['Festival Name', 'Customer Age Group', 'Customer Rating']].fillna(method='ffill')\n"
     ]
    }
   ],
   "source": [
    "amazon_india_full[['Festival Name', 'Customer Age Group', 'Customer Rating']] = amazon_india_full[['Festival Name', 'Customer Age Group', 'Customer Rating']].fillna(method='ffill')\n"
   ]
  },
  {
   "cell_type": "markdown",
   "id": "3be78868-9e4d-4145-adb0-b6657b78a76c",
   "metadata": {},
   "source": [
    "### Filling the Festival Name null values"
   ]
  },
  {
   "cell_type": "code",
   "execution_count": 11,
   "id": "0df2e6fd-8299-4464-9135-0dc09548dc88",
   "metadata": {},
   "outputs": [
    {
     "name": "stderr",
     "output_type": "stream",
     "text": [
      "C:\\Users\\saran\\AppData\\Local\\Temp\\ipykernel_12240\\2263500162.py:1: FutureWarning: Series.fillna with 'method' is deprecated and will raise in a future version. Use obj.ffill() or obj.bfill() instead.\n",
      "  amazon_india_full['Festival Name'] = amazon_india_full['Festival Name'].fillna(method='bfill')\n"
     ]
    }
   ],
   "source": [
    "amazon_india_full['Festival Name'] = amazon_india_full['Festival Name'].fillna(method='bfill')"
   ]
  },
  {
   "cell_type": "markdown",
   "id": "e25c7d7e-c752-4e1d-a65c-08b14725f017",
   "metadata": {},
   "source": [
    "### Filling the Customer Age Group null values"
   ]
  },
  {
   "cell_type": "code",
   "execution_count": 12,
   "id": "eb23b121-30d9-40ef-8f2c-befca638c4f1",
   "metadata": {},
   "outputs": [
    {
     "name": "stderr",
     "output_type": "stream",
     "text": [
      "C:\\Users\\saran\\AppData\\Local\\Temp\\ipykernel_12240\\1892976522.py:1: FutureWarning: Series.fillna with 'method' is deprecated and will raise in a future version. Use obj.ffill() or obj.bfill() instead.\n",
      "  amazon_india_full['Customer Age Group'] = amazon_india_full['Customer Age Group'].fillna(method='bfill')\n"
     ]
    }
   ],
   "source": [
    "amazon_india_full['Customer Age Group'] = amazon_india_full['Customer Age Group'].fillna(method='bfill')"
   ]
  },
  {
   "cell_type": "markdown",
   "id": "a69cef02-3904-49dc-affa-7b0d8146787e",
   "metadata": {},
   "source": [
    "### Filling the Original Price Inr null values"
   ]
  },
  {
   "cell_type": "code",
   "execution_count": 13,
   "id": "ab1f61d3-aeb0-4ba6-bb6e-c015a2e5ec2a",
   "metadata": {},
   "outputs": [
    {
     "name": "stderr",
     "output_type": "stream",
     "text": [
      "C:\\Users\\saran\\AppData\\Local\\Temp\\ipykernel_12240\\2120879635.py:1: FutureWarning: Series.fillna with 'method' is deprecated and will raise in a future version. Use obj.ffill() or obj.bfill() instead.\n",
      "  amazon_india_full['Original Price Inr'] = amazon_india_full['Original Price Inr'].fillna(method='ffill')\n"
     ]
    }
   ],
   "source": [
    "amazon_india_full['Original Price Inr'] = amazon_india_full['Original Price Inr'].fillna(method='ffill')"
   ]
  },
  {
   "cell_type": "markdown",
   "id": "0f98246d-7254-4bbc-8cef-e978a46a7941",
   "metadata": {},
   "source": [
    "### Check the Null Values"
   ]
  },
  {
   "cell_type": "code",
   "execution_count": 14,
   "id": "ef22463f-9e29-42c5-a3a7-64480fdc918f",
   "metadata": {},
   "outputs": [
    {
     "name": "stdout",
     "output_type": "stream",
     "text": [
      "No Null Values\n"
     ]
    }
   ],
   "source": [
    "if amazon_india_full.isnull().values.any():\n",
    "    print(amazon_india_full.isnull().sum() [amazon_india_full.isnull().sum() > 0])\n",
    "else:\n",
    "    print('No Null Values')"
   ]
  },
  {
   "cell_type": "code",
   "execution_count": 15,
   "id": "94471198-7f12-44dc-94d2-bbe299b918fc",
   "metadata": {},
   "outputs": [
    {
     "data": {
      "text/plain": [
       "1000    2023-04-17\n",
       "1001    2017-02-22\n",
       "1002    2020-07-11\n",
       "1003    2024-05-11\n",
       "1004    2017-09-13\n",
       "           ...    \n",
       "19995   2020-08-10\n",
       "19996   2023-07-11\n",
       "19997   2016-10-18\n",
       "19998   2021-01-18\n",
       "19999   2021-07-05\n",
       "Name: Order Date, Length: 19000, dtype: datetime64[ns]"
      ]
     },
     "execution_count": 15,
     "metadata": {},
     "output_type": "execute_result"
    }
   ],
   "source": [
    "amazon_india_full['Order Date'].iloc[1000:20000]"
   ]
  },
  {
   "cell_type": "markdown",
   "id": "9fab01c9-fa8b-4eca-9abf-4e44a4adcc71",
   "metadata": {},
   "source": [
    "### Check the data Values"
   ]
  },
  {
   "cell_type": "code",
   "execution_count": 16,
   "id": "8405fb89-33d9-4e9d-a871-e650bc691519",
   "metadata": {
    "scrolled": true
   },
   "outputs": [
    {
     "data": {
      "text/plain": [
       "Transaction Id                    object\n",
       "Order Date                datetime64[ns]\n",
       "Customer Id                       object\n",
       "Product Id                        object\n",
       "Product Name                      object\n",
       "Category                          object\n",
       "Subcategory                       object\n",
       "Brand                             object\n",
       "Original Price Inr               float64\n",
       "Discount Percent                 float64\n",
       "Discounted Price Inr             float64\n",
       "Quantity                           int64\n",
       "Subtotal Inr                     float64\n",
       "Delivery Charges                 float64\n",
       "Final Amount Inr                 float64\n",
       "Customer City                     object\n",
       "Customer State                    object\n",
       "Customer Tier                     object\n",
       "Customer Spending Tier            object\n",
       "Customer Age Group                object\n",
       "Payment Method                    object\n",
       "Delivery Days                    float64\n",
       "Delivery Type                     object\n",
       "Is Prime Member                     bool\n",
       "Is Festival Sale                    bool\n",
       "Festival Name                     object\n",
       "Customer Rating                  float64\n",
       "Return Status                     object\n",
       "Order Month                        int64\n",
       "Order Year                         int64\n",
       "Order Quarter                      int64\n",
       "Product Weight Kg                float64\n",
       "Is Prime Eligible                   bool\n",
       "Product Rating                   float64\n",
       "dtype: object"
      ]
     },
     "execution_count": 16,
     "metadata": {},
     "output_type": "execute_result"
    }
   ],
   "source": [
    "amazon_india_full.dtypes"
   ]
  },
  {
   "cell_type": "markdown",
   "id": "5abc3e06-ca49-411a-8f24-0273b029fa3d",
   "metadata": {},
   "source": [
    "### change the City Names"
   ]
  },
  {
   "cell_type": "code",
   "execution_count": 17,
   "id": "8ec0673f-3da0-4ba8-a829-579279402ba6",
   "metadata": {},
   "outputs": [],
   "source": [
    "city_map = {\n",
    "    \"Mumbai\": \"Mumbai\",\n",
    "    \"mumba\": \"Mumbai\",\n",
    "    \"MUMBAI\": \"Mumbai\",\n",
    "    \"Bombay\": \"Mumbai\",\n",
    "\n",
    "    \"Delhi\": \"Delhi\",\n",
    "    \"delhi\": \"Delhi\",\n",
    "    \"DELHI\": \"Delhi\",\n",
    "    \"New Delhi\": \"Delhi\",\n",
    "    \"Delhi NCR\": \"Delhi\",\n",
    "\n",
    "    \"Bangalore\": \"Bangalore\",\n",
    "    \"Banglore\": \"Bangalore\",\n",
    "    \"Bengalore\": \"Bangalore\",\n",
    "    \"BANGALORE\": \"Bangalore\",\n",
    "    \"Bengaluru\": \"Bangalore\",\n",
    "\n",
    "    \"Chennai\": \"Chennai\",\n",
    "    \"CHENNAI\": \"Chennai\",\n",
    "    \"chenai\": \"Chennai\",\n",
    "    \"chenai\": \"Chennai\",\n",
    "    \"Madras\": \"Chennai\",\n",
    "\n",
    "    \"Kolkata\": \"Kolkata\",\n",
    "    \"kolkata\": \"Kolkata\",\n",
    "    \"KOLKATA\": \"Kolkata\",\n",
    "    \"Calcutta\": \"Kolkata\"\n",
    "}"
   ]
  },
  {
   "cell_type": "code",
   "execution_count": 18,
   "id": "3616f0af-7305-4230-8093-028af4bb33ca",
   "metadata": {},
   "outputs": [],
   "source": [
    "amazon_india_full['Customer City'] = amazon_india_full['Customer City'].replace(city_map)"
   ]
  },
  {
   "cell_type": "code",
   "execution_count": 19,
   "id": "c4d8ed27-a42c-483a-bf26-09578895fde5",
   "metadata": {},
   "outputs": [
    {
     "data": {
      "text/plain": [
       "100      Nagpur\n",
       "101      Nagpur\n",
       "102       Delhi\n",
       "103      Mumbai\n",
       "104     Kolkata\n",
       "         ...   \n",
       "995     Kolkata\n",
       "996       Delhi\n",
       "997     Lucknow\n",
       "998      Kanpur\n",
       "999    Ludhiana\n",
       "Name: Customer City, Length: 900, dtype: object"
      ]
     },
     "execution_count": 19,
     "metadata": {},
     "output_type": "execute_result"
    }
   ],
   "source": [
    "amazon_india_full['Customer City'].iloc[100:1000]"
   ]
  },
  {
   "cell_type": "markdown",
   "id": "b174acf3-6645-4af6-b051-29baf35fa070",
   "metadata": {},
   "source": [
    "### Checking the Payment Method"
   ]
  },
  {
   "cell_type": "code",
   "execution_count": null,
   "id": "af34904a-2c99-4135-9da0-7af96e331a8d",
   "metadata": {},
   "outputs": [],
   "source": [
    "amazon_india_full['Payment Method'].unique()"
   ]
  },
  {
   "cell_type": "code",
   "execution_count": 21,
   "id": "3f4d4cf7-e460-4220-a7c1-578f178abad4",
   "metadata": {},
   "outputs": [],
   "source": [
    "payment_methods = {\n",
    "    \"COD\" : \"Cash on Delivery\",\n",
    "    \"UPI\" : \"Google Pay/PhonePe/Paytm\",\n",
    "    \"BNPL\" : \"Buy Now, Pay Later\"\n",
    "}"
   ]
  },
  {
   "cell_type": "code",
   "execution_count": 22,
   "id": "83fa1961-d18b-4b42-a32f-5d96e301ab0f",
   "metadata": {},
   "outputs": [],
   "source": [
    "amazon_india_full['Payment Method'] = amazon_india_full['Payment Method'].replace(payment_methods)"
   ]
  },
  {
   "cell_type": "code",
   "execution_count": 23,
   "id": "c855c92f-4343-4ff1-b9c3-f107349e9f5b",
   "metadata": {},
   "outputs": [
    {
     "data": {
      "text/plain": [
       "array(['Cash on Delivery', 'Google Pay/PhonePe/Paytm', 'Debit Card',\n",
       "       'Credit Card', 'Net Banking', 'Wallet', 'Buy Now, Pay Later'],\n",
       "      dtype=object)"
      ]
     },
     "execution_count": 23,
     "metadata": {},
     "output_type": "execute_result"
    }
   ],
   "source": [
    "amazon_india_full['Payment Method'].unique()"
   ]
  },
  {
   "cell_type": "markdown",
   "id": "9a7453e2-e04f-45a6-9992-7d3491a45ebc",
   "metadata": {},
   "source": [
    "### Checking the null values"
   ]
  },
  {
   "cell_type": "code",
   "execution_count": 24,
   "id": "3f75d2fe-b6da-4c66-bdb8-5295a5fa6f19",
   "metadata": {},
   "outputs": [
    {
     "name": "stdout",
     "output_type": "stream",
     "text": [
      "no null values\n"
     ]
    }
   ],
   "source": [
    "if amazon_india_full.isnull().values.any():\n",
    "    print(amazon_india_full.isnull().sum() [amazon_india_full.isnull().sum() > 0])\n",
    "else: \n",
    "    print('no null values')"
   ]
  },
  {
   "cell_type": "markdown",
   "id": "5fef17c6-fe8d-493c-a2e5-34d954273d2b",
   "metadata": {},
   "source": [
    "### Check the Customer Ratings"
   ]
  },
  {
   "cell_type": "code",
   "execution_count": 29,
   "id": "3af352ee-ec29-42f3-839c-95a001f7da50",
   "metadata": {},
   "outputs": [
    {
     "data": {
      "text/plain": [
       "Customer Rating\n",
       "4.5    380854\n",
       "5.0    289128\n",
       "4.0    275792\n",
       "3.5    117217\n",
       "3.0     64618\n",
       "Name: count, dtype: int64"
      ]
     },
     "execution_count": 29,
     "metadata": {},
     "output_type": "execute_result"
    }
   ],
   "source": [
    "amazon_india_full['Customer Rating'].value_counts()"
   ]
  },
  {
   "cell_type": "markdown",
   "id": "69c9795f-b981-496a-9c07-564ec23de5ad",
   "metadata": {},
   "source": [
    "### Check the Category"
   ]
  },
  {
   "cell_type": "code",
   "execution_count": 32,
   "id": "9fea6a07-ea06-49da-a8ec-08e5764a72c4",
   "metadata": {},
   "outputs": [
    {
     "data": {
      "text/plain": [
       "Category\n",
       "Electronics                  1126726\n",
       "Electronic                       229\n",
       "ELECTRONICS                      225\n",
       "Electronics & Accessories        218\n",
       "Electronicss                     211\n",
       "Name: count, dtype: int64"
      ]
     },
     "execution_count": 32,
     "metadata": {},
     "output_type": "execute_result"
    }
   ],
   "source": [
    "amazon_india_full['Category'].value_counts()"
   ]
  },
  {
   "cell_type": "markdown",
   "id": "b3391368-8728-41a0-84dd-6ec16e38c548",
   "metadata": {},
   "source": [
    "### Check the Delivery Days"
   ]
  },
  {
   "cell_type": "code",
   "execution_count": 33,
   "id": "4a638046-b8ff-48a1-8cc3-360f341eaf7b",
   "metadata": {},
   "outputs": [
    {
     "data": {
      "text/plain": [
       "Delivery Days\n",
       " 3.0     291434\n",
       " 1.0     212637\n",
       " 4.0     208547\n",
       " 5.0     137949\n",
       " 2.0     127516\n",
       " 6.0     103739\n",
       " 7.0      34441\n",
       "-1.0       6901\n",
       " 0.0       2240\n",
       " 15.0      2205\n",
       "Name: count, dtype: int64"
      ]
     },
     "execution_count": 33,
     "metadata": {},
     "output_type": "execute_result"
    }
   ],
   "source": [
    "amazon_india_full['Delivery Days'].value_counts()"
   ]
  },
  {
   "cell_type": "markdown",
   "id": "8d9b6346-e991-4483-94f8-43392238062d",
   "metadata": {},
   "source": [
    "### Checking the Payment Methods"
   ]
  },
  {
   "cell_type": "code",
   "execution_count": 36,
   "id": "5a76b9da-e3c7-4185-98b2-95fdb1d465af",
   "metadata": {},
   "outputs": [
    {
     "data": {
      "text/plain": [
       "0                  Cash on Delivery\n",
       "1          Google Pay/PhonePe/Paytm\n",
       "2                        Debit Card\n",
       "3          Google Pay/PhonePe/Paytm\n",
       "4                  Cash on Delivery\n",
       "                     ...           \n",
       "1127604                  Debit Card\n",
       "1127605    Google Pay/PhonePe/Paytm\n",
       "1127606                  Debit Card\n",
       "1127607            Cash on Delivery\n",
       "1127608    Google Pay/PhonePe/Paytm\n",
       "Name: Payment Method, Length: 1127609, dtype: object"
      ]
     },
     "execution_count": 36,
     "metadata": {},
     "output_type": "execute_result"
    }
   ],
   "source": [
    "amazon_india_full['Payment Method']"
   ]
  },
  {
   "cell_type": "markdown",
   "id": "330aef0d-de4f-48a8-9c99-08d035e35cb5",
   "metadata": {},
   "source": [
    "### Checking the Customer City"
   ]
  },
  {
   "cell_type": "code",
   "execution_count": 37,
   "id": "4e04d30b-1035-4189-8e84-1f3c864732ec",
   "metadata": {},
   "outputs": [
    {
     "data": {
      "text/plain": [
       "0              Kolkata\n",
       "1             Ludhiana\n",
       "2            Bangalore\n",
       "3            Bangalore\n",
       "4                Kochi\n",
       "              ...     \n",
       "1127604         Jaipur\n",
       "1127605          Delhi\n",
       "1127606    Bhubaneswar\n",
       "1127607         Mumbai\n",
       "1127608          Surat\n",
       "Name: Customer City, Length: 1127609, dtype: object"
      ]
     },
     "execution_count": 37,
     "metadata": {},
     "output_type": "execute_result"
    }
   ],
   "source": [
    "amazon_india_full['Customer City']"
   ]
  },
  {
   "cell_type": "code",
   "execution_count": 38,
   "id": "37c28d1d-0d19-4e28-b126-f6e6390f5623",
   "metadata": {},
   "outputs": [
    {
     "data": {
      "text/plain": [
       "Transaction Id                    object\n",
       "Order Date                datetime64[ns]\n",
       "Customer Id                       object\n",
       "Product Id                        object\n",
       "Product Name                      object\n",
       "Category                          object\n",
       "Subcategory                       object\n",
       "Brand                             object\n",
       "Original Price Inr               float64\n",
       "Discount Percent                 float64\n",
       "Discounted Price Inr             float64\n",
       "Quantity                           int64\n",
       "Subtotal Inr                     float64\n",
       "Delivery Charges                 float64\n",
       "Final Amount Inr                 float64\n",
       "Customer City                     object\n",
       "Customer State                    object\n",
       "Customer Tier                     object\n",
       "Customer Spending Tier            object\n",
       "Customer Age Group                object\n",
       "Payment Method                    object\n",
       "Delivery Days                    float64\n",
       "Delivery Type                     object\n",
       "Is Prime Member                     bool\n",
       "Is Festival Sale                    bool\n",
       "Festival Name                     object\n",
       "Customer Rating                  float64\n",
       "Return Status                     object\n",
       "Order Month                        int64\n",
       "Order Year                         int64\n",
       "Order Quarter                      int64\n",
       "Product Weight Kg                float64\n",
       "Is Prime Eligible                   bool\n",
       "Product Rating                   float64\n",
       "dtype: object"
      ]
     },
     "execution_count": 38,
     "metadata": {},
     "output_type": "execute_result"
    }
   ],
   "source": [
    "amazon_india_full.dtypes"
   ]
  },
  {
   "cell_type": "code",
   "execution_count": 39,
   "id": "f2602e69-7123-4edb-bf98-b1bf73400930",
   "metadata": {},
   "outputs": [
    {
     "data": {
      "text/plain": [
       "(1127609, 34)"
      ]
     },
     "execution_count": 39,
     "metadata": {},
     "output_type": "execute_result"
    }
   ],
   "source": [
    "amazon_india_full.shape"
   ]
  },
  {
   "cell_type": "markdown",
   "id": "c520a8a1-bbde-4109-a374-c1b2dde820b4",
   "metadata": {},
   "source": [
    "### Save the CSV Files"
   ]
  },
  {
   "cell_type": "code",
   "execution_count": 42,
   "id": "31ea7ea9-90a4-4087-a54a-48d3b8c51fba",
   "metadata": {},
   "outputs": [
    {
     "name": "stdout",
     "output_type": "stream",
     "text": [
      "save\n"
     ]
    }
   ],
   "source": [
    "amazon_india_full.to_csv('Amazon India Complete.csv', index=False)\n",
    "print('save')"
   ]
  },
  {
   "cell_type": "code",
   "execution_count": null,
   "id": "b8ad5d52-9189-4bbd-b25a-4c1917e9f8e3",
   "metadata": {},
   "outputs": [],
   "source": []
  },
  {
   "cell_type": "code",
   "execution_count": null,
   "id": "0f37bd8f-3104-4e3e-a65e-4f4ae6b8157e",
   "metadata": {},
   "outputs": [],
   "source": []
  }
 ],
 "metadata": {
  "kernelspec": {
   "display_name": "Python 3 (ipykernel)",
   "language": "python",
   "name": "python3"
  },
  "language_info": {
   "codemirror_mode": {
    "name": "ipython",
    "version": 3
   },
   "file_extension": ".py",
   "mimetype": "text/x-python",
   "name": "python",
   "nbconvert_exporter": "python",
   "pygments_lexer": "ipython3",
   "version": "3.13.5"
  }
 },
 "nbformat": 4,
 "nbformat_minor": 5
}
